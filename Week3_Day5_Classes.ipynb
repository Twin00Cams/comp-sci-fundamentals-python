{
 "cells": [
  {
   "cell_type": "code",
   "execution_count": 19,
   "metadata": {
    "collapsed": true
   },
   "outputs": [],
   "source": [
    "# Class project: Create a back pack with mass_max:15kg & volume_max:4 liters"
   ]
  },
  {
   "cell_type": "markdown",
   "metadata": {},
   "source": [
    "def total_weight(items_list):\n",
    "    total = 0\n",
    "    for item in items_list:\n",
    "        total += item[\"weight\"]\n",
    "    return total"
   ]
  },
  {
   "cell_type": "markdown",
   "metadata": {},
   "source": [
    "#This is a markdown cell:\n",
    "The convention in Object Oriented Programming as well as Functional Programmings is that CONSTANTS (variables that never change) are written in UPPER-CASE.  \n",
    "Another convention unique to OOP is \"Proper case\" (first letter only is capitalized)\n"
   ]
  },
  {
   "cell_type": "code",
   "execution_count": 20,
   "metadata": {},
   "outputs": [],
   "source": [
    "# we define our class (blueprint) with two properties \n",
    "class Back_Pack:   # it's convention, when making a class, the first letter is capatalized\n",
    "    MAX_WEIGHT = 15\n",
    "    MAX_SIZE = 4\n",
    "    items = []\n",
    "    \n",
    "    def total_weight(items_list):\n",
    "        total = 0\n",
    "        for item in items_list:\n",
    "            total += item[\"weight\"]\n",
    "        return total\n",
    "    "
   ]
  },
  {
   "cell_type": "code",
   "execution_count": 21,
   "metadata": {},
   "outputs": [
    {
     "name": "stdout",
     "output_type": "stream",
     "text": [
      "15\n"
     ]
    }
   ],
   "source": [
    "#we instantiate a new object using the Back_Pack class\n",
    "my_back_pack = Back_Pack()\n",
    "print(my_back_pack.MAX_WEIGHT)"
   ]
  },
  {
   "cell_type": "code",
   "execution_count": 22,
   "metadata": {},
   "outputs": [],
   "source": [
    "my_back_pack.items.append(\"frog\")"
   ]
  },
  {
   "cell_type": "code",
   "execution_count": 23,
   "metadata": {},
   "outputs": [],
   "source": [
    "my_back_pack.items.append(\"mouse\")\n",
    "my_back_pack.items.append(\"elephant\")"
   ]
  },
  {
   "cell_type": "code",
   "execution_count": 24,
   "metadata": {},
   "outputs": [
    {
     "name": "stdout",
     "output_type": "stream",
     "text": [
      "['frog', 'mouse', 'elephant']\n"
     ]
    }
   ],
   "source": [
    "print(my_back_pack.items)\n",
    "# ['frog', 'frog', 'mouse', 'elephant']"
   ]
  },
  {
   "cell_type": "markdown",
   "metadata": {},
   "source": [
    "New Project:  Trip Item\n",
    "\n",
    "**Initialize** means to get ready a value for the first time\n",
    "**Instantiate** means to create (e.g. an object) \n",
    "**def** means defined"
   ]
  },
  {
   "cell_type": "code",
   "execution_count": 25,
   "metadata": {
    "collapsed": true
   },
   "outputs": [],
   "source": [
    "class Trip_Item:\n",
    "    def __init__(self, name, weight, size):\n",
    "        self.name = name\n",
    "        self.weight = weight\n",
    "        self.size = size # we assign the value of size to self."
   ]
  },
  {
   "cell_type": "code",
   "execution_count": 26,
   "metadata": {},
   "outputs": [
    {
     "name": "stdout",
     "output_type": "stream",
     "text": [
      "Laptop\n",
      "5\n",
      "0.5\n"
     ]
    }
   ],
   "source": [
    "# I instantiate my first trip item, giving it a name of \"laptop\", a weight of 5 and a size of 0.5\n",
    "\n",
    "trip_item_1 = Trip_Item(\"Laptop\", 5, 0.5)\n",
    "\n",
    "print(trip_item_1.name)\n",
    "print(trip_item_1.weight)\n",
    "print(trip_item_1.size)"
   ]
  },
  {
   "cell_type": "code",
   "execution_count": 27,
   "metadata": {},
   "outputs": [],
   "source": [
    "# instantiate some new objects\n",
    "trip_item_2 = Trip_Item(\"1 Set of Clothing\", 3, 1)\n",
    "trip_item_3 = Trip_Item(\"1 Toiletries Set\", 0.5, 0.25)\n",
    "trip_item_4 = Trip_Item(\"1 Box of Choclates\", 1, 0.5)\n",
    "trip_item_5 = Trip_Item(\"1 Pair of Boots\", 0.5, 1)\n",
    "trip_item_6 = Trip_Item(\"1 Rattlesnake\", 1, 0.25)"
   ]
  },
  {
   "cell_type": "code",
   "execution_count": 28,
   "metadata": {},
   "outputs": [],
   "source": [
    "trip_items = [trip_item_1, trip_item_2, trip_item_3, trip_item_4, trip_item_5, trip_item_6]"
   ]
  },
  {
   "cell_type": "code",
   "execution_count": 31,
   "metadata": {},
   "outputs": [],
   "source": [
    "for item in trip_items:\n",
    "    my_back_pack.items.append(item)   "
   ]
  },
  {
   "cell_type": "code",
   "execution_count": 32,
   "metadata": {},
   "outputs": [
    {
     "name": "stdout",
     "output_type": "stream",
     "text": [
      "['frog', 'mouse', 'elephant', <__main__.Trip_Item object at 0x0000016DDC739B38>, <__main__.Trip_Item object at 0x0000016DDC6AE2B0>, <__main__.Trip_Item object at 0x0000016DDB585400>, <__main__.Trip_Item object at 0x0000016DDC6AEB70>, <__main__.Trip_Item object at 0x0000016DDC6AE8D0>, <__main__.Trip_Item object at 0x0000016DDC6AEC18>, <__main__.Trip_Item object at 0x0000016DDC739B38>, <__main__.Trip_Item object at 0x0000016DDC6AE2B0>, <__main__.Trip_Item object at 0x0000016DDB585400>, <__main__.Trip_Item object at 0x0000016DDC6AEB70>, <__main__.Trip_Item object at 0x0000016DDC6AE8D0>, <__main__.Trip_Item object at 0x0000016DDC6AEC18>]\n"
     ]
    }
   ],
   "source": [
    "print(my_back_pack.items)"
   ]
  },
  {
   "cell_type": "code",
   "execution_count": null,
   "metadata": {
    "collapsed": true
   },
   "outputs": [],
   "source": []
  }
 ],
 "metadata": {
  "kernelspec": {
   "display_name": "Python 3",
   "language": "python",
   "name": "python3"
  },
  "language_info": {
   "codemirror_mode": {
    "name": "ipython",
    "version": 3
   },
   "file_extension": ".py",
   "mimetype": "text/x-python",
   "name": "python",
   "nbconvert_exporter": "python",
   "pygments_lexer": "ipython3",
   "version": "3.6.3"
  }
 },
 "nbformat": 4,
 "nbformat_minor": 2
}
